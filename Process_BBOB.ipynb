{
 "cells": [
  {
   "cell_type": "code",
   "execution_count": null,
   "id": "032f37ff-c1d6-432e-b640-21272f15f393",
   "metadata": {},
   "outputs": [],
   "source": [
    "## Turn the zips from iohanaly\n",
    "library('IOHanalyzer')\n",
    "\n",
    "for (f in list.files(\"~/Projects/DE/modular/\", full.names = T, pattern = '.zip')) {\n",
    "  unzip(f, exdir = \"Data\")\n",
    "}\n",
    "\n",
    "failed <- c()\n",
    "for (d in list.dirs(\"Data\", recursive = F)) {\n",
    "  tryCatch({\n",
    "    dsl_temp <- change_id(DataSetList(d), c('SDIS'))\n",
    "    saveRDS(dsl_temp, file = paste0(\"Data_rds/\",\n",
    "                                    basename(d),\n",
    "                                    \".rds\")\n",
    "    )},\n",
    "    \n",
    "    error = function(e) {\n",
    "      print(d)\n",
    "      print(e)\n",
    "      failed <- c(failed, basename(d))\n",
    "    }\n",
    "  )\n",
    "}\n",
    "\n",
    "for (f in list.files(\"~/Repository/DE_Modular/\", full.names = T)) {\n",
    "  dsl <- readRDS(f)\n",
    "  info = list(algId = get_algId(dsl), funcId = get_funcId(dsl), DIM = get_dim(dsl))\n",
    "  saveRDS(info, paste0(\"~/Repository/DE_Modular/\", basename(f), \"_info\"))\n",
    "}"
   ]
  }
 ],
 "metadata": {
  "kernelspec": {
   "display_name": "R",
   "language": "R",
   "name": "ir"
  },
  "language_info": {
   "codemirror_mode": "r",
   "file_extension": ".r",
   "mimetype": "text/x-r-source",
   "name": "R",
   "pygments_lexer": "r",
   "version": "4.1.1"
  }
 },
 "nbformat": 4,
 "nbformat_minor": 5
}
