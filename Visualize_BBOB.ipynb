{
 "cells": [
  {
   "cell_type": "code",
   "execution_count": null,
   "id": "7fae92b7-955d-413c-b689-4e66a844a242",
   "metadata": {},
   "outputs": [],
   "source": [
    "import pandas as pd\n",
    "import numpy as np\n",
    "import matplotlib.pyplot as plt\n",
    "import seaborn as sbs\n",
    "import pickle as pkl\n",
    "\n",
    "log_folder_location = \"logs_dict\" #where to find the processed logs\n",
    "sdiss = ['COTN', 'mirror', 'saturate', 'toroidal', 'unif_resample']\n",
    "# sdiss = ['c', 'm', 's', 't', 'u', 'h']\n",
    "sdiss_lables = ['COTN', 'Mir', 'Sat', 'Tor', 'Uni']\n",
    "sdis_label_dict = {k:v for k,v in zip(sdiss, sdiss_lables)}\n",
    "colors = sbs.color_palette('Set2', len(sdiss)+2)\n",
    "colors.pop(-2)\n",
    "# sdiss = ['c', 'm', 's', 't', 'u', 'h']"
   ]
  },
  {
   "cell_type": "code",
   "execution_count": null,
   "id": "4120acfc-9dec-4eac-9da9-8b25bfcc4b05",
   "metadata": {},
   "outputs": [],
   "source": [
    "sdiss_sorted = ['COTN', 'mirror', 'saturate', 'toroidal', 'unif_resample']"
   ]
  },
  {
   "cell_type": "code",
   "execution_count": null,
   "id": "640d66e6-df2a-4da2-9ef0-af5561026014",
   "metadata": {},
   "outputs": [],
   "source": [
    "font = {'size'   : 30}\n",
    "\n",
    "plt.rc('font', **font)"
   ]
  },
  {
   "cell_type": "code",
   "execution_count": null,
   "id": "4e90feda-0bb6-4075-8d4e-3d4fae8ca327",
   "metadata": {},
   "outputs": [],
   "source": [
    "%load_ext rpy2.ipython"
   ]
  },
  {
   "cell_type": "code",
   "execution_count": null,
   "id": "811ec408-bf15-457e-9a84-ef6548c8e75d",
   "metadata": {},
   "outputs": [],
   "source": [
    "from rpy2 import robjects\n",
    "import rpy2.robjects.numpy2ri\n",
    "rpy2.robjects.numpy2ri.activate()"
   ]
  },
  {
   "cell_type": "code",
   "execution_count": null,
   "id": "0c6ae08d-a91a-4063-8b78-9b1be39fada8",
   "metadata": {},
   "outputs": [],
   "source": [
    "%%R \n",
    "library(data.table)\n",
    "library(IOHanalyzer)"
   ]
  },
  {
   "cell_type": "markdown",
   "id": "ff4e6764-50a5-427b-aea7-eebba33e8725",
   "metadata": {},
   "source": [
    "For the cell below, and any similar ones, the path should be replaced to the path where the corresponding RDS files are located"
   ]
  },
  {
   "cell_type": "code",
   "execution_count": null,
   "id": "9ca88e59-0c6a-49ec-ba8a-54b96fefb018",
   "metadata": {},
   "outputs": [],
   "source": [
    "%%R -o get_CS_R\n",
    "\n",
    "get_CS_R <- function(fid, sdis) {\n",
    "    dsl <- readRDS(paste0(\"/mnt/c/Users/Diedie/Documents/Repository/DE_Modular/L-SHADE_\", sdis, \"_CS.rds\"))\n",
    "    ds <- subset(dsl, funcId == fid)\n",
    "    cs <- ds[[1]]$PAR$by_RT$CS\n",
    "\n",
    "    return( cs[cs != 0] )\n",
    "}"
   ]
  },
  {
   "cell_type": "code",
   "execution_count": null,
   "id": "7c48f738-604c-410c-871b-f684f977ea01",
   "metadata": {},
   "outputs": [],
   "source": [
    "#ECDF version of previous plot \n",
    "def create_POIS_ECDF_matrix(algname):\n",
    "    colors = sbs.color_palette('Set2', len(sdiss)+1)\n",
    "    colors.pop(-2)\n",
    "#     add_legend = True\n",
    "    fig, axes = plt.subplots(nrows=6, ncols=4, sharex='all', sharey='all')\n",
    "#     plt.figure(figsize=(16,10))\n",
    "    for idx_0 in range(6):\n",
    "        for idx_1 in range(4):\n",
    "            fid = 1 + 4*idx_0 + idx_1\n",
    "            bins = np.arange(-1.000000000,1.00000001,0.05)\n",
    "            for sidx, sdis in enumerate(sdiss):\n",
    "                cos = get_CS_R(fid, sdis)\n",
    "                # for rep in range(5):\n",
    "        #             with open(f\"{log_folder_location}/{algname}_F{fid}_{5}D_I{1}_{sdis}_R{rep}.pkl\", \"rb\") as f: \n",
    "        #                 res = pkl.load(f)\n",
    "        #             cos += res['cosine']\n",
    "        # #         dt = get_merged_dt_v3(sdis, F, CR, popsize)\n",
    "        # #         dt_applied = dt[dt['nr_exceed'] >= 1]\n",
    "        #         cos = np.array(cos)[~np.isnan(cos)]\n",
    "                max_len = len(cos)\n",
    "#                 if add_legend:\n",
    "#                     axes[idx_0, idx_1].plot(div1s[idx,:], color=colors[sidx], alpha=0.4, label = sdis)\n",
    "#                     add_legend=False\n",
    "                axes[idx_0, idx_1].plot([np.sum(cos<=b)/max_len for b in bins], label=f'{sdis_label_dict[sdis]}', lw=2, c=colors[sidx])\n",
    "#                 plt.plot([np.sum(cos<=b)/max_len for b in bins], label=f'SDIS: {sdis}', lw=2, c=colors[sidx])\n",
    "                axes[idx_0, idx_1].legend(fontsize=20)\n",
    "#             plt.ylim(0,1)\n",
    "#             plt.xlim(0,40)\n",
    "#             plt.xticks(range(len(bins))[::5],[f\"{x:.2f}\" for x in bins[::5]])\n",
    "\n",
    "            if idx_0 == 5:\n",
    "#                 axes[idx_0, idx_1].set_xlabel(f'CR 0.{CR[1:]}')\n",
    "                axes[idx_0, idx_1].set_xticks(range(len(bins))[::5])\n",
    "                axes[idx_0, idx_1].set_xticklabels([f\"{x:.2f}\" for x in bins[::5]], fontsize=12)\n",
    "\n",
    "#         axes[idx_0, 0].set_ylabel(f'F: 0.{F[1:]}')\n",
    "    fig.set_figheight(30)\n",
    "    fig.set_figwidth(20)\n",
    "    plt.tight_layout()\n",
    "    plt.subplots_adjust(hspace=0.03, wspace=0.03)\n",
    "\n",
    "    plt.savefig(f\"Figures/ECDF_BBOB_matrix_{algname}.pdf\")"
   ]
  },
  {
   "cell_type": "code",
   "execution_count": null,
   "id": "6dc184e2-c171-40b1-8d0d-7a2202807fb3",
   "metadata": {},
   "outputs": [],
   "source": [
    "create_POIS_ECDF_matrix('L-SHADE')"
   ]
  },
  {
   "cell_type": "code",
   "execution_count": null,
   "id": "4680404e-f865-496f-8e26-07e8764eb979",
   "metadata": {},
   "outputs": [],
   "source": [
    "%%R -o get_POIS_R\n",
    "\n",
    "get_POIS_R <- function(sdis) {\n",
    "    dsl <- readRDS(paste0(\"/mnt/c/Users/Diedie/Documents/Repository/DE_Modular/L-SHADE_\", sdis, \"_CS.rds\"))\n",
    "    fracs <- lapply(seq(24), function(fid) {\n",
    "        ds <- subset(dsl, funcId == fid)\n",
    "      cs <- ds[[1]]$PAR$by_RT$CS\n",
    "\n",
    "      non_zeros <- cs[cs != 0]\n",
    "      length(non_zeros) / length(cs)\n",
    "    })\n",
    "    fracs\n",
    "}"
   ]
  },
  {
   "cell_type": "code",
   "execution_count": null,
   "id": "a05a250b-f309-4dda-9791-3ecf89fe6b4d",
   "metadata": {},
   "outputs": [],
   "source": [
    "# %%R -o get_CS_R\n",
    "\n",
    "# get_CS_R <- function(fid, dim, sdis) {\n",
    "#     dsl <- readRDS(paste0(\"/mnt/c/Users/Diedie/Documents/Repository/DE_Modular/L-SHADE_\", sdis, \"_CS.rds\"))\n",
    "#     ds <- subset(dsl, funcId == fid)\n",
    "#       cs <- ds[[1]]$PAR$by_RT$CS\n",
    "\n",
    "#     return( cs[cs != 0] )\n",
    "# }"
   ]
  },
  {
   "cell_type": "code",
   "execution_count": null,
   "id": "aae4bacd-5796-4df6-8c8f-1364f87e6e68",
   "metadata": {},
   "outputs": [],
   "source": [
    "%%R -o get_popdiv -o get_corr -o get_fitness\n",
    "\n",
    "get_popdiv <- function(fid, dim, sdis, version = 'L-SHADE') {\n",
    "    dsl <- readRDS(paste0(\"/mnt/c/Users/Diedie/Documents/repository/DE_Modular/\", version, \"_\", sdis, \".rds\"))\n",
    "    ds <- subset(dsl, funcId == fid, DIM == dim)[[1]]\n",
    "    pdiv <- ds$PAR$by_RT$popdiv\n",
    "\n",
    "    return( pdiv )\n",
    "}\n",
    "\n",
    "get_corr <- function(fid, dim, sdis, version = 'L-SHADE') {\n",
    "    dsl <- readRDS(paste0(\"/mnt/c/Users/Diedie/Documents/repository/DE_Modular/\", version, \"_\", sdis, \".rds\"))\n",
    "    ds <- subset(dsl, funcId == fid, DIM == dim)[[1]]\n",
    "    pdiv <- ds$PAR$by_RT$cumulative_corrected\n",
    "\n",
    "    return( pdiv )\n",
    "}\n",
    "\n",
    "get_fitness <- function(fid, dim, sdis, version = 'L-SHADE') {\n",
    "    dsl <- readRDS(paste0(\"/mnt/c/Users/Diedie/Documents/repository/DE_Modular/\", version, \"_\", sdis, \".rds\"))\n",
    "    ds <- subset(dsl, funcId == fid, DIM == dim)[[1]]\n",
    "    fv <- ds$FV\n",
    "\n",
    "    return( fv )\n",
    "}"
   ]
  },
  {
   "cell_type": "code",
   "execution_count": null,
   "id": "48e7d183-fb63-47f8-b9ed-e623457b1522",
   "metadata": {},
   "outputs": [],
   "source": [
    "def get_pois(fid, dim, sdis):\n",
    "    corr = get_corr(fid, dim, sdis)\n",
    "    corr_noncum = corr[1:] - corr[:-1] \n",
    "    corr_noncum[corr_noncum < 0] = 0\n",
    "    fitness = get_fitness(fid, dim, sdis)\n",
    "    \n",
    "    pois = 0\n",
    "    for rep in range(5):\n",
    "        x = corr_noncum[:,rep]\n",
    "\n",
    "        solved = np.where(np.array(fitness[:,rep]) < 1e-8)[0]\n",
    "        \n",
    "        if len(solved) > 0:\n",
    "            max_rt = solved[0]\n",
    "        else:\n",
    "            max_rt = len(x)\n",
    "        pois += (np.sum(x[:max_rt]) / max_rt)\n",
    "    return pois/5"
   ]
  },
  {
   "cell_type": "code",
   "execution_count": null,
   "id": "385af07a-2edb-4a41-8b7f-d14be11da6e2",
   "metadata": {},
   "outputs": [],
   "source": [
    "def plot_final_pois_heatmap(dim):\n",
    "    pois_array = np.zeros((24,len(sdiss)))\n",
    "    for sidx, sdis in enumerate(sdiss_sorted):\n",
    "        for fid in range(1,25):\n",
    "            pois_array[fid-1, sidx] = get_pois(fid, dim, sdis)\n",
    "#         temp = get_POIS_R(sdis)\n",
    "#         pois_array[:, sidx] = np.array(temp).flatten()\n",
    "    \n",
    "    plt.figure(figsize=(20,8))\n",
    "    sbs.heatmap(np.transpose(pois_array), cmap='viridis', vmax=1)\n",
    "    plt.yticks([i+0.5 for i in range(5)], sdiss_sorted, rotation=45)\n",
    "    plt.xticks([i+0.5 for i in range(24)], range(1,25))\n",
    "    plt.xlabel(\"Function ID\")\n",
    "    plt.ylabel(\"SDIS\")\n",
    "    plt.tight_layout()\n",
    "    plt.savefig(f\"figures/Final_POIS_{dim}D_I1.pdf\")\n",
    "    plt.show()"
   ]
  },
  {
   "cell_type": "code",
   "execution_count": null,
   "id": "9b1a2740-4dc0-4db6-ac0c-6572f6c320f0",
   "metadata": {},
   "outputs": [],
   "source": [
    "plot_final_pois_heatmap_all_iid(5)"
   ]
  },
  {
   "cell_type": "code",
   "execution_count": null,
   "id": "70a3acf6-f355-4cd7-8507-88c6764756ec",
   "metadata": {},
   "outputs": [],
   "source": [
    "%%R -o get_POIS_R_30D\n",
    "\n",
    "get_POIS_R_30D <- function(sdis) {\n",
    "    dsl <- readRDS(paste0(\"/mnt/c/Users/diedi/Documents/Repository/DE_Modular/L-SHADE_\", sdis, \".rds\"))    \n",
    "    fracs <- lapply(seq(24), function(fid) {\n",
    "        ds <- subset(dsl, funcId == fid, DIM == 30)[[1]]\n",
    "          cs <- ds$PAR$by_RT$CS\n",
    "\n",
    "      non_zeros <- cs[cs != 0]\n",
    "      length(non_zeros) / length(cs)\n",
    "    })\n",
    "    fracs\n",
    "}"
   ]
  },
  {
   "cell_type": "code",
   "execution_count": null,
   "id": "067af311-9a8c-4af7-bbfc-c01318de61ae",
   "metadata": {},
   "outputs": [],
   "source": [
    "# def plot_final_pois_heatmap_all_iid(dim):\n",
    "pois_array = np.zeros((24,len(sdiss)))\n",
    "for sidx, sdis in enumerate(sdiss_sorted):\n",
    "    temp = get_POIS_R_30D(sdis)\n",
    "    pois_array[:, sidx] = np.array(temp).flatten()\n",
    "\n",
    "plt.figure(figsize=(20,8))\n",
    "sbs.heatmap(np.transpose(pois_array), cmap='viridis', vmax=1)\n",
    "plt.yticks([i+0.5 for i in range(5)], sdiss_sorted, rotation=45)\n",
    "plt.xticks([i+0.5 for i in range(24)], range(1,25))\n",
    "plt.xlabel(\"Function ID\")\n",
    "plt.ylabel(\"SDIS\")\n",
    "plt.tight_layout()\n",
    "plt.savefig(f\"figures/Final_POIS_{30}D_I1.pdf\")\n",
    "plt.show()"
   ]
  },
  {
   "cell_type": "code",
   "execution_count": null,
   "id": "254549fa-470d-447b-807e-98d5d3aff84a",
   "metadata": {},
   "outputs": [],
   "source": [
    "def plot_sliding_window_pois(fid, iid = 1, dim = 5, de_version = 'L-SHADE'):\n",
    "    # colors = sbs.color_palette('Set2', len(sdiss)+2) #plus 2 here, since 'h' was not used for these experiments\n",
    "    # colors.pop(-2)\n",
    "    plt.figure(figsize=(16,10))\n",
    "    for sidx, sdis in enumerate(sdiss):\n",
    "        show_label = True\n",
    "        corr = get_corr(fid, dim, sdis, de_version)\n",
    "        corr_noncum = corr[1:] - corr[:-1] \n",
    "        corr_noncum[corr_noncum < 0] = 0\n",
    "        \n",
    "        lambda_ = 18*dim\n",
    "        initial_lambda_ = lambda_\n",
    "        used_budget = 0\n",
    "        budget = dim*10000\n",
    "        popsize_arr = [lambda_] \n",
    "        while used_budget < corr_noncum.shape[0]:\n",
    "            lambda_ = int(np.round((4 - initial_lambda_)/budget * used_budget + initial_lambda_))\n",
    "            popsize_arr.append(lambda_) \n",
    "            used_budget += lambda_\n",
    "        \n",
    "        fitness = get_fitness(fid, dim, sdis, de_version)\n",
    "        \n",
    "        for rep in range(5):\n",
    "            \n",
    "            x = corr_noncum[:,rep]\n",
    "            y = popsize_arr\n",
    "            if show_label:\n",
    "                plt.plot(range(int(len(y)-10)),[np.sum(x[int(np.sum(y[:i])):int(np.sum(y[:i+10]))])/np.sum(y[i:i+10]) for i in range(len(y)-10)], label=f'{sdis_label_dict[sdis]}', c=colors[sidx])\n",
    "                show_label = False\n",
    "            else:\n",
    "                plt.plot(range(int(len(y)-10)),[np.sum(x[int(np.sum(y[:i])):int(np.sum(y[:i+10]))])/np.sum(y[i:i+10]) for i in range(len(y)-10)], c=colors[sidx])\n",
    "            solved = np.where(np.array(fitness[:,rep]) < 1e-8)[0]\n",
    "            if len(solved) > 0:\n",
    "                solved_idx = np.where(solved[0] < np.cumsum(y))[0][0]\n",
    "                plt.axvline(solved_idx, color = colors[sidx], ls='--')\n",
    "    # plt.plot(range(len(x2)),[v/c for c,v in enumerate(np.cumsum(x2))])\n",
    "#     plt.axvline(49, c='k')\n",
    "#     plt.axvline(99, c='k')\n",
    "#     plt.xscale('log')\n",
    "    plt.legend()\n",
    "    plt.xlabel(\"Start Generation\")\n",
    "    plt.ylabel(\"Fraction of Corrections\")\n",
    "#     plt.xlim(45,50000)\n",
    "    plt.tight_layout()\n",
    "    plt.savefig(f\"figures/{de_version}F{fid}_I{iid}_{dim}D_window_pois.pdf\")\n",
    "    plt.close()\n",
    "#     plt.show()"
   ]
  },
  {
   "cell_type": "code",
   "execution_count": null,
   "id": "167ddd40-18a5-4bdf-beda-c4a662c6ba7a",
   "metadata": {},
   "outputs": [],
   "source": [
    "def plot_diversity(fid, iid = 1, dim = 5, de_version = 'L-SHADE'):\n",
    "    # colors = sbs.color_palette('Set2', len(sdiss)+2)\n",
    "    # colors.pop(-2)\n",
    "    plt.figure(figsize=(16,10))\n",
    "    for sidx, sdis in enumerate(sdiss):\n",
    "        show_label = True\n",
    "        \n",
    "        popdiv = get_popdiv(fid, dim, sdis, de_version)\n",
    "        \n",
    "        lambda_ = 18*dim\n",
    "        initial_lambda_ = lambda_\n",
    "        used_budget = 0\n",
    "        budget = dim*10000\n",
    "        popsize_arr = [lambda_] \n",
    "        while used_budget < popdiv.shape[0]:\n",
    "            lambda_ = int(np.round((4 - initial_lambda_)/budget * used_budget + initial_lambda_))\n",
    "            popsize_arr.append(lambda_) \n",
    "            used_budget += lambda_\n",
    "        \n",
    "        fitness = get_fitness(fid, dim, sdis, de_version)\n",
    "        \n",
    "        for rep in range(5):\n",
    "            n_iters = len(popsize_arr)\n",
    "            y = popsize_arr\n",
    "            popdivs  = popdiv[:,rep]\n",
    "                        \n",
    "            n_iters = np.max(np.where(len(popdivs) > np.cumsum(popsize_arr))[0])\n",
    "            \n",
    "            popdivs = [popdivs[x-1] for x in np.cumsum(popsize_arr[:n_iters])]\n",
    "            if show_label:\n",
    "                plt.plot(range(n_iters-1),popdivs[1:], label=f'{sdis_label_dict[sdis]}', c=colors[sidx])\n",
    "                show_label = False\n",
    "            else:\n",
    "                plt.plot(range(n_iters-1),popdivs[1:], c=colors[sidx])\n",
    "            solved = np.where(np.array(fitness[:,rep]) < 1e-8)[0]\n",
    "            if len(solved) > 0:\n",
    "                solved_idx = np.where(solved[0] < np.cumsum(y))[0][0]\n",
    "                plt.axvline(solved_idx-1, color = colors[sidx], ls='--')\n",
    "    # plt.plot(range(len(x2)),[v/c for c,v in enumerate(np.cumsum(x2))])\n",
    "#     plt.axvline(49, c='k')\n",
    "#     plt.axvline(99, c='k')\n",
    "    plt.yscale('log')\n",
    "    plt.legend()\n",
    "    plt.xlabel(\"Generation\")\n",
    "    plt.ylabel(\"Population Diversity\")\n",
    "#     plt.xlim(45,50000)\n",
    "    plt.tight_layout()\n",
    "    plt.savefig(f\"figures/{de_version}_F{fid}_I{iid}_{dim}D_diversity.pdf\")\n",
    "    plt.close()\n",
    "#     plt.show()"
   ]
  },
  {
   "cell_type": "code",
   "execution_count": null,
   "id": "0d7c9cf1-63ed-4317-b386-1296e95e4363",
   "metadata": {},
   "outputs": [],
   "source": [
    "for fid in range(1,25):\n",
    "    for dim in [5,30]:\n",
    "        plot_sliding_window_pois(fid, dim = dim, de_version='SHADE')"
   ]
  },
  {
   "cell_type": "code",
   "execution_count": null,
   "id": "0b450c58-5ff1-490a-acaa-793b076ed6a7",
   "metadata": {},
   "outputs": [],
   "source": [
    "for fid in range(1,25):\n",
    "    for dim in [5,30]:\n",
    "        plot_sliding_window_pois(fid, dim = dim, de_version='L-SHADE')"
   ]
  },
  {
   "cell_type": "code",
   "execution_count": null,
   "id": "14bf108c-5c58-466c-9153-faa0b1cb4737",
   "metadata": {},
   "outputs": [],
   "source": [
    "for fid range(1,25):\n",
    "    for dim in [5,30]:\n",
    "        plot_diversity(fid, dim = dim, de_version='SHADE')"
   ]
  },
  {
   "cell_type": "code",
   "execution_count": null,
   "id": "4771d4dc-a6fa-43bc-bf03-aebb057c71ae",
   "metadata": {},
   "outputs": [],
   "source": [
    "for range(1,25):\n",
    "    for dim in [5,30]:\n",
    "        plot_diversity(fid, dim = dim, de_version='L-SHADE')"
   ]
  }
 ],
 "metadata": {
  "kernelspec": {
   "display_name": "Python 3 (ipykernel)",
   "language": "python",
   "name": "python3"
  },
  "language_info": {
   "codemirror_mode": {
    "name": "ipython",
    "version": 3
   },
   "file_extension": ".py",
   "mimetype": "text/x-python",
   "name": "python",
   "nbconvert_exporter": "python",
   "pygments_lexer": "ipython3",
   "version": "3.8.10"
  }
 },
 "nbformat": 4,
 "nbformat_minor": 5
}
