{
 "cells": [
  {
   "cell_type": "markdown",
   "id": "ae9132b3",
   "metadata": {},
   "source": [
    "This notebook contains the code needed to generate the data which tracks the POIS and diversity througout runs of SHADE and L-SHADE.\n",
    "It is based on the pyade project by David Criado Ramón (https://github.com/xKuZz/pyade), with some some modifications (class-based structure, SDIS, initialization). \n",
    "This code is part of the paper \"The Importance of Being Restrained\" DETAILS + CITATION INFO TO ADD HERE"
   ]
  },
  {
   "cell_type": "code",
   "execution_count": 1,
   "id": "98ef1186",
   "metadata": {},
   "outputs": [],
   "source": [
    "#Basic setup part: importing needed libraries + pyade classes defining the DE-wrapper\n",
    "import numpy as np\n",
    "import ioh # Used version 0.3.2.4\n",
    "import pickle as pkl\n",
    "from pyade.shade import shade\n",
    "from pyade.ilshade import ilshade\n",
    "from pyade.lshade import lshade\n",
    "from pyade.mpede import mpede\n",
    "from pyade.sade import sade\n",
    "from pyade.de import de\n",
    "\n",
    "versions = [\"shade\", \"ilshade\", \"lshade\", \"mpede\", \"sade\", \"de\"]\n",
    "sdiss = ['saturate', 'mirror', 'COTN', 'unif_resample', 'toroidal']\n",
    "\n",
    "class DE_evaluator():\n",
    "    def __init__(self, version, corr_method):\n",
    "        self.alg = eval(f\"{version}\")\n",
    "        self.corr_method = corr_method\n",
    "    \n",
    "    def __call__(self, func, seed = None):\n",
    "        self.p = self.alg.get_default_params(dim=func.meta_data.n_variables)\n",
    "        self.p['bounds'] = np.array([[-5, 5]] * func.meta_data.n_variables)\n",
    "        self.p['func'] = func\n",
    "        self.p['corr_method'] = self.corr_method\n",
    "        self.p['seed'] = seed\n",
    "        self.alg.apply(**self.p)"
   ]
  },
  {
   "cell_type": "code",
   "execution_count": 2,
   "id": "b7148522",
   "metadata": {},
   "outputs": [],
   "source": [
    "%%capture cap --no-stderr\n",
    "#Set parameters for selecting what version + functions to use. \n",
    "#Note!!!: Works only when the flag '_write_output' is set to True in pyade/commons.py\n",
    "\n",
    "import time\n",
    "start = time.time()\n",
    "\n",
    "\n",
    "de_version = 'shade' # We use both shade and lshade for the paper\n",
    "dim = 5 # We use dims 5 and 30 for the paper\n",
    "iid = 1 # we use only iid 1 in the paper to save some computation time\n",
    "\n",
    "print(\"/\")\n",
    "for fid in range(1,25):\n",
    "    for sdis in sdiss:\n",
    "        for rep in range(5):\n",
    "            de_e = DE_evaluator(de_version, sdis)\n",
    "            func = ioh.get_problem(fid,iid,dim)\n",
    "            de_e(func, rep)\n",
    "            print(\"/\")\n",
    "            \n",
    "end = time.time()"
   ]
  },
  {
   "cell_type": "code",
   "execution_count": 3,
   "id": "90d6a958",
   "metadata": {},
   "outputs": [],
   "source": [
    "#Write raw log to file\n",
    "with open(f'logs_full/log_all_fcts_sdis_5rep_iid{iid}_{de_version}_{dim}d.txt', 'w') as f:\n",
    "    f.write(cap.stdout)"
   ]
  },
  {
   "cell_type": "code",
   "execution_count": 8,
   "id": "52f9056e",
   "metadata": {},
   "outputs": [],
   "source": [
    "%%capture cap2 --no-stderr\n",
    "#Set parameters for selecting what version + functions to use. \n",
    "#Note!!!: Works only when the flag '_write_output' is set to True in pyade/commons.py\n",
    "\n",
    "# import time\n",
    "# start = time.time()\n",
    "\n",
    "\n",
    "de_version = 'lshade' # We use both shade and lshade for the paper\n",
    "dim = 30 # We use dims 5 and 30 for the paper\n",
    "iid = 4 # we use only iid 1 in the paper to save some computation time\n",
    "\n",
    "print(\"/\")\n",
    "for fid in range(1,25):\n",
    "    for sdis in sdiss:\n",
    "        for rep in range(5):\n",
    "            de_e = DE_evaluator(de_version, sdis)\n",
    "            func = ioh.get_problem(fid,iid,dim)\n",
    "            de_e(func, rep)\n",
    "            print(\"/\")\n",
    "            \n",
    "# end = time.time()"
   ]
  },
  {
   "cell_type": "code",
   "execution_count": 9,
   "id": "f30014f0",
   "metadata": {},
   "outputs": [],
   "source": [
    "#Write raw log to file\n",
    "with open(f'logs_full/log_all_fcts_sdis_5rep_iid{iid}_{de_version}_{dim}d.txt', 'w') as f:\n",
    "    f.write(cap2.stdout)"
   ]
  },
  {
   "cell_type": "code",
   "execution_count": 10,
   "id": "62e5232b",
   "metadata": {},
   "outputs": [],
   "source": [
    "%%capture cap3 --no-stderr\n",
    "#Set parameters for selecting what version + functions to use. \n",
    "#Note!!!: Works only when the flag '_write_output' is set to True in pyade/commons.py\n",
    "\n",
    "# import time\n",
    "# start = time.time()\n",
    "\n",
    "\n",
    "de_version = 'lshade' # We use both shade and lshade for the paper\n",
    "dim = 30 # We use dims 5 and 30 for the paper\n",
    "iid = 5 # we use only iid 1 in the paper to save some computation time\n",
    "\n",
    "print(\"/\")\n",
    "for fid in range(1,25):\n",
    "    for sdis in sdiss:\n",
    "        for rep in range(5):\n",
    "            de_e = DE_evaluator(de_version, sdis)\n",
    "            func = ioh.get_problem(fid,iid,dim)\n",
    "            de_e(func, rep)\n",
    "            print(\"/\")\n",
    "            \n",
    "# end = time.time()"
   ]
  },
  {
   "cell_type": "code",
   "execution_count": 11,
   "id": "8e141f95",
   "metadata": {},
   "outputs": [],
   "source": [
    "#Write raw log to file\n",
    "with open(f'logs_full/log_all_fcts_sdis_5rep_iid{iid}_{de_version}_{dim}d.txt', 'w') as f:\n",
    "    f.write(cap3.stdout)"
   ]
  },
  {
   "cell_type": "code",
   "execution_count": 3,
   "id": "88ddf610",
   "metadata": {},
   "outputs": [
    {
     "name": "stdout",
     "output_type": "stream",
     "text": [
      "It took 13014.3 seconds\n"
     ]
    }
   ],
   "source": [
    "print('It took {0:0.1f} seconds'.format(end - start))"
   ]
  }
 ],
 "metadata": {
  "kernelspec": {
   "display_name": "Python 3 (ipykernel)",
   "language": "python",
   "name": "python3"
  },
  "language_info": {
   "codemirror_mode": {
    "name": "ipython",
    "version": 3
   },
   "file_extension": ".py",
   "mimetype": "text/x-python",
   "name": "python",
   "nbconvert_exporter": "python",
   "pygments_lexer": "ipython3",
   "version": "3.8.10"
  }
 },
 "nbformat": 4,
 "nbformat_minor": 5
}
