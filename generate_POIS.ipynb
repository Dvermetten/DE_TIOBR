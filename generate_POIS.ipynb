{
 "cells": [
  {
   "cell_type": "markdown",
   "id": "0c942fbe-ac45-4600-98ad-390824296a04",
   "metadata": {},
   "source": [
    "This notebook contains the code needed to generate the data which tracks the POIS and diversity througout runs of SHADE and L-SHADE.\n",
    "It is based on the pyade project by David Criado Ramón (https://github.com/xKuZz/pyade), with some some modifications (class-based structure, SDIS, initialization). \n",
    "This code is part of the paper \"The Importance of Being Restrained\" DETAILS + CITATION INFO TO ADD HERE"
   ]
  },
  {
   "cell_type": "code",
   "execution_count": null,
   "id": "2d4a2f0d-a2df-4f78-b0f4-123ce58d01e6",
   "metadata": {},
   "outputs": [],
   "source": [
    "#Basic setup part: importing needed libraries + pyade classes defining the DE-wrapper\n",
    "import numpy as np\n",
    "import ioh # Used version 0.3.2.4\n",
    "import pickle as pkl\n",
    "from pyade.shade import shade\n",
    "from pyade.ilshade import ilshade\n",
    "from pyade.lshade import lshade\n",
    "from pyade.mpede import mpede\n",
    "from pyade.sade import sade\n",
    "from pyade.de import de\n",
    "\n",
    "versions = [\"shade\", \"ilshade\", \"lshade\", \"mpede\", \"sade\", \"de\"]\n",
    "sdiss = ['saturate', 'mirror', 'COTN', 'unif_resample', 'toroidal']\n",
    "\n",
    "class DE_evaluator():\n",
    "    def __init__(self, version, corr_method):\n",
    "        self.alg = eval(f\"{version}\")\n",
    "        self.corr_method = corr_method\n",
    "    \n",
    "    def __call__(self, func, seed = None):\n",
    "        self.p = self.alg.get_default_params(dim=func.meta_data.n_variables)\n",
    "        self.p['bounds'] = np.array([[-5, 5]] * func.meta_data.n_variables)\n",
    "        self.p['func'] = func\n",
    "        self.p['corr_method'] = self.corr_method\n",
    "        self.p['seed'] = seed\n",
    "        self.alg.apply(**self.p)"
   ]
  },
  {
   "cell_type": "code",
   "execution_count": null,
   "id": "cf49ff98-aba6-4faa-be6a-55f6a494c7ce",
   "metadata": {},
   "outputs": [],
   "source": [
    "%%capture cap --no-stderr\n",
    "\n",
    "#Set parameters for selecting what version + functions to use. \n",
    "#Note!!!: Works only when the flag '_write_output' is set to True in pyade/commons.py\n",
    "\n",
    "de_version = 'lshade' # We use both shade and lshade for the paper\n",
    "dim = 30 # We use dims 5 and 30 for the paper\n",
    "iid = 1 # we use only iid 1 in the paper to save some computation time\n",
    "\n",
    "print(\"/\")\n",
    "for fid in range(1,25):\n",
    "    for sdis in sdiss:\n",
    "        for rep in range(5):\n",
    "            de_e = DE_evaluator(de_version, sdis)\n",
    "            func = ioh.get_problem(fid,iid,dim)\n",
    "            de_e(func, rep)\n",
    "            print(\"/\")"
   ]
  },
  {
   "cell_type": "code",
   "execution_count": null,
   "id": "58a46b2a-4712-4706-9178-45b8e5e08265",
   "metadata": {},
   "outputs": [],
   "source": [
    "#Write raw log to file\n",
    "with open(f'log_all_fcts_sdis_5rep_iid{iid}_{de_version}_{dim}d.txt', 'w') as f:\n",
    "    f.write(cap.stdout)"
   ]
  }
 ],
 "metadata": {
  "kernelspec": {
   "display_name": "Python 3 (ipykernel)",
   "language": "python",
   "name": "python3"
  },
  "language_info": {
   "codemirror_mode": {
    "name": "ipython",
    "version": 3
   },
   "file_extension": ".py",
   "mimetype": "text/x-python",
   "name": "python",
   "nbconvert_exporter": "python",
   "pygments_lexer": "ipython3",
   "version": "3.8.10"
  }
 },
 "nbformat": 4,
 "nbformat_minor": 5
}
