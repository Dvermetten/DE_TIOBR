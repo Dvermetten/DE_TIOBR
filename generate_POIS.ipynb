{
 "cells": [
  {
   "cell_type": "markdown",
   "id": "0c942fbe-ac45-4600-98ad-390824296a04",
   "metadata": {},
   "source": [
    "This notebook contains the code needed to generate the data which tracks the POIS and diversity througout runs of SHADE and L-SHADE.\n",
    "It is based on the pyade project by David Criado Ramón (https://github.com/xKuZz/pyade), with some some modifications (class-based structure, SDIS, initialization). \n",
    "This code is part of the paper \"The Importance of Being Restrained\" DETAILS + CITATION INFO TO ADD HERE"
   ]
  },
  {
   "cell_type": "code",
   "execution_count": 1,
   "id": "2d4a2f0d-a2df-4f78-b0f4-123ce58d01e6",
   "metadata": {},
   "outputs": [],
   "source": [
    "#Basic setup part: importing needed libraries + pyade classes defining the DE-wrapper\n",
    "import numpy as np\n",
    "import ioh # Used version 0.3.2.4\n",
    "import pickle as pkl\n",
    "from pyade.shade import shade\n",
    "from pyade.ilshade import ilshade\n",
    "from pyade.lshade import lshade\n",
    "from pyade.mpede import mpede\n",
    "from pyade.sade import sade\n",
    "from pyade.de import de\n",
    "\n",
    "versions = [\"shade\", \"ilshade\", \"lshade\", \"mpede\", \"sade\", \"de\"]\n",
    "sdiss = ['saturate', 'mirror', 'COTN', 'unif_resample', 'toroidal']\n",
    "\n",
    "class DE_evaluator():\n",
    "    def __init__(self, version, corr_method):\n",
    "        self.alg = eval(f\"{version}\")\n",
    "        self.corr_method = corr_method\n",
    "    \n",
    "    def __call__(self, func, seed = None):\n",
    "        self.p = self.alg.get_default_params(dim=func.meta_data.n_variables)\n",
    "        self.p['bounds'] = np.array([[-5, 5]] * func.meta_data.n_variables)\n",
    "        self.p['func'] = func\n",
    "        self.p['corr_method'] = self.corr_method\n",
    "        self.p['seed'] = seed\n",
    "        self.alg.apply(**self.p)"
   ]
  },
  {
   "cell_type": "code",
   "execution_count": 12,
   "id": "cf49ff98-aba6-4faa-be6a-55f6a494c7ce",
   "metadata": {},
   "outputs": [],
   "source": [
    "%%capture cap --no-stderr\n",
    "#Set parameters for selecting what version + functions to use. \n",
    "#Note!!!: Works only when the flag '_write_output' is set to True in pyade/commons.py\n",
    "\n",
    "import time\n",
    "start = time.time()\n",
    "\n",
    "\n",
    "de_version = 'lshade' # We use both shade and lshade for the paper\n",
    "dim = 30 # We use dims 5 and 30 for the paper\n",
    "iid = 2 # we use only iid 1 in the paper to save some computation time\n",
    "\n",
    "print(\"/\")\n",
    "for fid in range(1,25):\n",
    "    for sdis in sdiss:\n",
    "        for rep in range(5):\n",
    "            de_e = DE_evaluator(de_version, sdis)\n",
    "            func = ioh.get_problem(fid,iid,dim)\n",
    "            de_e(func, rep)\n",
    "            print(\"/\")\n",
    "            \n",
    "end = time.time()"
   ]
  },
  {
   "cell_type": "code",
   "execution_count": 13,
   "id": "58a46b2a-4712-4706-9178-45b8e5e08265",
   "metadata": {},
   "outputs": [],
   "source": [
    "#Write raw log to file\n",
    "with open(f'logs_full/log_all_fcts_sdis_5rep_iid{iid}_{de_version}_{dim}d.txt', 'w') as f:\n",
    "    f.write(cap.stdout)"
   ]
  },
  {
   "cell_type": "code",
   "execution_count": 8,
   "id": "1da9deeb-2fea-4bc5-a5f8-ca2942016a79",
   "metadata": {},
   "outputs": [],
   "source": [
    "%%capture cap2 --no-stderr\n",
    "#Set parameters for selecting what version + functions to use. \n",
    "#Note!!!: Works only when the flag '_write_output' is set to True in pyade/commons.py\n",
    "\n",
    "# import time\n",
    "# start = time.time()\n",
    "\n",
    "\n",
    "de_version = 'lshade' # We use both shade and lshade for the paper\n",
    "dim = 30 # We use dims 5 and 30 for the paper\n",
    "iid = 4 # we use only iid 1 in the paper to save some computation time\n",
    "\n",
    "print(\"/\")\n",
    "for fid in range(1,25):\n",
    "    for sdis in sdiss:\n",
    "        for rep in range(5):\n",
    "            de_e = DE_evaluator(de_version, sdis)\n",
    "            func = ioh.get_problem(fid,iid,dim)\n",
    "            de_e(func, rep)\n",
    "            print(\"/\")\n",
    "            \n",
    "# end = time.time()"
   ]
  },
  {
   "cell_type": "code",
   "execution_count": 9,
   "id": "ba6e4330-f81a-4fd4-a03c-f1c626814ecc",
   "metadata": {},
   "outputs": [],
   "source": [
    "#Write raw log to file\n",
    "with open(f'logs_full/log_all_fcts_sdis_5rep_iid{iid}_{de_version}_{dim}d.txt', 'w') as f:\n",
    "    f.write(cap2.stdout)"
   ]
  },
  {
   "cell_type": "code",
   "execution_count": 10,
   "id": "6a0d4e78-d626-4683-acdf-6d5d7e39244f",
   "metadata": {},
   "outputs": [],
   "source": [
    "%%capture cap3 --no-stderr\n",
    "#Set parameters for selecting what version + functions to use. \n",
    "#Note!!!: Works only when the flag '_write_output' is set to True in pyade/commons.py\n",
    "\n",
    "# import time\n",
    "# start = time.time()\n",
    "\n",
    "\n",
    "de_version = 'lshade' # We use both shade and lshade for the paper\n",
    "dim = 30 # We use dims 5 and 30 for the paper\n",
    "iid = 5 # we use only iid 1 in the paper to save some computation time\n",
    "\n",
    "print(\"/\")\n",
    "for fid in range(1,25):\n",
    "    for sdis in sdiss:\n",
    "        for rep in range(5):\n",
    "            de_e = DE_evaluator(de_version, sdis)\n",
    "            func = ioh.get_problem(fid,iid,dim)\n",
    "            de_e(func, rep)\n",
    "            print(\"/\")\n",
    "            \n",
    "# end = time.time()"
   ]
  },
  {
   "cell_type": "code",
   "execution_count": 11,
   "id": "ecd6b908-7025-4218-b47c-ff8be0e7f738",
   "metadata": {},
   "outputs": [],
   "source": [
    "#Write raw log to file\n",
    "with open(f'logs_full/log_all_fcts_sdis_5rep_iid{iid}_{de_version}_{dim}d.txt', 'w') as f:\n",
    "    f.write(cap3.stdout)"
   ]
  },
  {
   "cell_type": "code",
   "execution_count": 3,
   "id": "9fca6cb2-77d1-4314-8fe6-19988c5ceb16",
   "metadata": {},
   "outputs": [
    {
     "name": "stdout",
     "output_type": "stream",
     "text": [
      "It took 13014.3 seconds\n"
     ]
    }
   ],
   "source": [
    "print('It took {0:0.1f} seconds'.format(end - start))"
   ]
  },
  {
   "cell_type": "code",
   "execution_count": 5,
   "id": "8a5558ce-8734-4cbe-807d-f932c5056a69",
   "metadata": {},
   "outputs": [
    {
     "data": {
      "text/plain": [
       "3.615"
      ]
     },
     "execution_count": 5,
     "metadata": {},
     "output_type": "execute_result"
    }
   ],
   "source": [
    "13014/60/60"
   ]
  },
  {
   "cell_type": "code",
   "execution_count": null,
   "id": "5d7658f2-1ea4-4dd3-a792-b31b65df4091",
   "metadata": {},
   "outputs": [],
   "source": []
  }
 ],
 "metadata": {
  "kernelspec": {
   "display_name": "Python 3 (ipykernel)",
   "language": "python",
   "name": "python3"
  },
  "language_info": {
   "codemirror_mode": {
    "name": "ipython",
    "version": 3
   },
   "file_extension": ".py",
   "mimetype": "text/x-python",
   "name": "python",
   "nbconvert_exporter": "python",
   "pygments_lexer": "ipython3",
   "version": "3.8.10"
  }
 },
 "nbformat": 4,
 "nbformat_minor": 5
}
